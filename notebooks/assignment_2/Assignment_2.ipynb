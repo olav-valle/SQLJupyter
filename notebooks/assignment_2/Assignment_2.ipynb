{
 "cells": [
  {
   "cell_type": "markdown",
   "metadata": {},
   "source": [
    "Load the database Social-Network."
   ]
  },
  {
   "cell_type": "code",
   "execution_count": 1,
   "metadata": {},
   "outputs": [
    {
     "data": {
      "text/plain": [
       "'Connected: @Social-Network.db'"
      ]
     },
     "execution_count": 1,
     "metadata": {},
     "output_type": "execute_result"
    }
   ],
   "source": [
    "%load_ext sql\n",
    "%sql sqlite:///Social-Network.db"
   ]
  },
  {
   "cell_type": "markdown",
   "metadata": {},
   "source": [
    "**Assignment II Description**\n",
    "\n",
    "Students at your hometown high school have decided to organize their social network using databases. So far, they have\n",
    "collected information about sixteen students in four grades, 9-12. Here's the schema:\n",
    "\n",
    "Highschooler ( ID, name, grade )\n",
    "English: There is a high school student with unique _ID_ and a given _first name_ in a certain _grade_.\n",
    "\n",
    "Friend ( ID1, ID2 )\n",
    "English: The student with _ID1_ is friends with the student with _ID2_. Friendship is mutual, so if (123, 456) is in the Friend table, so is (456, 123).\n",
    "\n",
    "Likes ( ID1, ID2 )\n",
    "English: The student with _ID1_ likes the student with _ID2_. Liking someone is not necessarily mutual, so if (123, 456) is in the Likes table, there is no guarantee that (456, 123) is also present.\n",
    "\n",
    "Your queries will run over a small data set conforming to the schema. You can view the database in the pdf file.\n",
    "\n",
    "For your convenience, here is a graph showing the various connections between the students in our database. 9th graders\n",
    "are blue, 10th graders are green, 11th graders are yellow, and 12th graders are purple. Undirected black edges indicate\n",
    "friendships, and directed red edges indicate that one student likes another student.\n",
    "\n",
    "![title](image.png)\n",
    "\n",
    "**Instructions**\n",
    "\n",
    "Each problem asks you to write a query in SQL. You can run your code by clicking Run button on the top of the page.\n",
    "\n",
    "**Important Notes**\n",
    "\n",
    "1- Your queries are executed using SQLite, so you must conform to the SQL constructs supported by SQLite.\n",
    "\n",
    "2- Unless a specific result ordering is asked for, you can return the result rows in any order.\n",
    "\n",
    "3- You are to translate the English into a SQL query that computes the desired result over all possible databases. I will give you the correct output two weeks later as a reference. However, just to check the answer is not enough. This means for our small sample database, even if your answer is correct, it is possible that your query does not correctly reflect the problem at hand. (For example, if we ask for a complex condition that requires accessing all of the tables, but over our small data set in the end the condition is satisfied only by Star Wars, then the query \"select title from Movie where title = 'Star Wars'\" will get correct answer even though it doesn't reflect the actual question.) Circumventing the system in this fashion is not a good idea to help you learn SQL. On the other hand, an incorrect attempt at a general solution is unlikely to produce the right answer, so you shouldn't be led astray by just checking the answer.\n",
    "\n",
    "**Assignment Questions**\n",
    "\n",
    "This assignment includes three exercises **[Social-Network Query Exercises], [SQL Social-Network Query Exercises Extras]** and **[Social-Network Modification Exercises]**. Finish all questions listed below and test if your answers are correct with reference output. Then fill your answers in this template.\n",
    "\n",
    "**What to hand in:**\n",
    "1. Generate a HTML report from this notebook template with answers (File > Download as > HTML).\n",
    "2. This \"Assignment_2.ipynb\" file with answers."
   ]
  },
  {
   "cell_type": "markdown",
   "metadata": {},
   "source": [
    "Social-Network Query Exercises, Q1:\n",
    "\n",
    "Find the names of all students who are friends with someone named Gabriel."
   ]
  },
  {
   "cell_type": "code",
   "execution_count": 2,
   "metadata": {},
   "outputs": [
    {
     "name": "stdout",
     "output_type": "stream",
     "text": [
      " * sqlite:///Social-Network.db\n",
      "Done.\n"
     ]
    },
    {
     "data": {
      "text/html": [
       "<table>\n",
       "    <tr>\n",
       "        <th>ID1</th>\n",
       "        <th>ID2</th>\n",
       "    </tr>\n",
       "    <tr>\n",
       "        <td>1689</td>\n",
       "        <td>1709</td>\n",
       "    </tr>\n",
       "    <tr>\n",
       "        <td>1709</td>\n",
       "        <td>1689</td>\n",
       "    </tr>\n",
       "    <tr>\n",
       "        <td>1782</td>\n",
       "        <td>1709</td>\n",
       "    </tr>\n",
       "    <tr>\n",
       "        <td>1911</td>\n",
       "        <td>1247</td>\n",
       "    </tr>\n",
       "    <tr>\n",
       "        <td>1247</td>\n",
       "        <td>1468</td>\n",
       "    </tr>\n",
       "    <tr>\n",
       "        <td>1641</td>\n",
       "        <td>1468</td>\n",
       "    </tr>\n",
       "    <tr>\n",
       "        <td>1316</td>\n",
       "        <td>1304</td>\n",
       "    </tr>\n",
       "    <tr>\n",
       "        <td>1501</td>\n",
       "        <td>1934</td>\n",
       "    </tr>\n",
       "    <tr>\n",
       "        <td>1934</td>\n",
       "        <td>1501</td>\n",
       "    </tr>\n",
       "    <tr>\n",
       "        <td>1025</td>\n",
       "        <td>1101</td>\n",
       "    </tr>\n",
       "</table>"
      ],
      "text/plain": [
       "[(1689, 1709),\n",
       " (1709, 1689),\n",
       " (1782, 1709),\n",
       " (1911, 1247),\n",
       " (1247, 1468),\n",
       " (1641, 1468),\n",
       " (1316, 1304),\n",
       " (1501, 1934),\n",
       " (1934, 1501),\n",
       " (1025, 1101)]"
      ]
     },
     "execution_count": 2,
     "metadata": {},
     "output_type": "execute_result"
    }
   ],
   "source": [
    "%sql select * from likes;"
   ]
  },
  {
   "cell_type": "markdown",
   "metadata": {},
   "source": [
    "Social-Network Query Exercises, Q2:\n",
    "\n",
    "For every student who likes someone 2 or more grades younger than themselves, return that student's name and grade, and\n",
    "the name and grade of the student they like."
   ]
  },
  {
   "cell_type": "code",
   "execution_count": null,
   "metadata": {
    "collapsed": true
   },
   "outputs": [],
   "source": []
  },
  {
   "cell_type": "markdown",
   "metadata": {},
   "source": [
    "Social-Network Query Exercises, Q3:\n",
    "\n",
    "For every pair of students who both like each other, return the name and grade of both students. Include each pair only once,\n",
    "with the two names in alphabetical order."
   ]
  },
  {
   "cell_type": "code",
   "execution_count": null,
   "metadata": {
    "collapsed": true
   },
   "outputs": [],
   "source": []
  },
  {
   "cell_type": "markdown",
   "metadata": {},
   "source": [
    "Social-Network Query Exercises, Q4:\n",
    "\n",
    "Find all students who do not appear in the Likes table (as a student who likes or is liked) and return their names and grades.\n",
    "Sort by grade, then by name within each grade."
   ]
  },
  {
   "cell_type": "code",
   "execution_count": null,
   "metadata": {
    "collapsed": true
   },
   "outputs": [],
   "source": []
  },
  {
   "cell_type": "markdown",
   "metadata": {},
   "source": [
    "Social-Network Query Exercises, Q5:\n",
    "\n",
    "For every situation where student A likes student B, but we have no information about whom B likes (that is, B does not\n",
    "appear as an ID1 in the Likes table), return A and B's names and grades."
   ]
  },
  {
   "cell_type": "code",
   "execution_count": null,
   "metadata": {
    "collapsed": true
   },
   "outputs": [],
   "source": []
  },
  {
   "cell_type": "markdown",
   "metadata": {},
   "source": [
    "Social-Network Query Exercises, Q6:\n",
    "\n",
    "Find names and grades of students who only have friends in the same grade. Return the result sorted by grade, then by name\n",
    "within each grade."
   ]
  },
  {
   "cell_type": "code",
   "execution_count": null,
   "metadata": {
    "collapsed": true
   },
   "outputs": [],
   "source": []
  },
  {
   "cell_type": "markdown",
   "metadata": {},
   "source": [
    "Social-Network Query Exercises, Q7:\n",
    "\n",
    "For each student A who likes a student B where the two are not friends, find if they have a friend C in common (who can\n",
    "introduce them!). For all such trios, return the name and grade of A, B, and C."
   ]
  },
  {
   "cell_type": "code",
   "execution_count": null,
   "metadata": {
    "collapsed": true
   },
   "outputs": [],
   "source": []
  },
  {
   "cell_type": "markdown",
   "metadata": {},
   "source": [
    "Social-Network Query Exercises, Q8:\n",
    "\n",
    "Find the difference between the number of students in the school and the number of different first names."
   ]
  },
  {
   "cell_type": "code",
   "execution_count": null,
   "metadata": {
    "collapsed": true
   },
   "outputs": [],
   "source": []
  },
  {
   "cell_type": "markdown",
   "metadata": {},
   "source": [
    "Social-Network Query Exercises, Q9:\n",
    "\n",
    "Find the name and grade of all students who are liked by more than one other student."
   ]
  },
  {
   "cell_type": "code",
   "execution_count": null,
   "metadata": {
    "collapsed": true
   },
   "outputs": [],
   "source": []
  },
  {
   "cell_type": "markdown",
   "metadata": {},
   "source": [
    "Social-Network Query Exercises Extras, Q1:\n",
    "\n",
    "For every situation where student A likes student B, but student B likes a different student C, return the names and grades of\n",
    "A, B, and C."
   ]
  },
  {
   "cell_type": "code",
   "execution_count": null,
   "metadata": {
    "collapsed": true
   },
   "outputs": [],
   "source": []
  },
  {
   "cell_type": "markdown",
   "metadata": {},
   "source": [
    "Social-Network Query Exercises Extras, Q2:\n",
    "\n",
    "Find those students for whom all of their friends are in different grades from themselves. Return the students' names and\n",
    "grades."
   ]
  },
  {
   "cell_type": "code",
   "execution_count": null,
   "metadata": {
    "collapsed": true
   },
   "outputs": [],
   "source": []
  },
  {
   "cell_type": "markdown",
   "metadata": {},
   "source": [
    "Social-Network Query Exercises Extras, Q3:\n",
    "\n",
    "What is the average number of friends per student? (Your result should be just one number.)"
   ]
  },
  {
   "cell_type": "code",
   "execution_count": null,
   "metadata": {
    "collapsed": true
   },
   "outputs": [],
   "source": []
  },
  {
   "cell_type": "markdown",
   "metadata": {},
   "source": [
    "Social-Network Query Exercises Extras, Q4:\n",
    "\n",
    "Find the number of students who are either friends with Cassandra or are friends of friends of Cassandra. Do not count\n",
    "Cassandra, even though technically she is a friend of a friend."
   ]
  },
  {
   "cell_type": "code",
   "execution_count": null,
   "metadata": {
    "collapsed": true
   },
   "outputs": [],
   "source": []
  },
  {
   "cell_type": "markdown",
   "metadata": {},
   "source": [
    "Social-Network Query Exercises Extras, Q5:\n",
    "\n",
    "Find the name and grade of the student(s) with the greatest number of friends."
   ]
  },
  {
   "cell_type": "code",
   "execution_count": null,
   "metadata": {
    "collapsed": true
   },
   "outputs": [],
   "source": []
  },
  {
   "cell_type": "markdown",
   "metadata": {
    "collapsed": true
   },
   "source": [
    "Social-Network Modification Exercises, Q1:\n",
    "\n",
    "It's time for the seniors to graduate. Remove all 12th graders from Highschooler."
   ]
  },
  {
   "cell_type": "code",
   "execution_count": null,
   "metadata": {
    "collapsed": true
   },
   "outputs": [],
   "source": []
  },
  {
   "cell_type": "markdown",
   "metadata": {
    "collapsed": true
   },
   "source": [
    "Social-Network Modification Exercises, Q2:\n",
    "\n",
    "If two students A and B are friends, and A likes B but not vice-versa, remove the Likes tuple."
   ]
  },
  {
   "cell_type": "code",
   "execution_count": null,
   "metadata": {
    "collapsed": true
   },
   "outputs": [],
   "source": []
  },
  {
   "cell_type": "markdown",
   "metadata": {
    "collapsed": true
   },
   "source": [
    "Social-Network Modification Exercises, Q3:\n",
    "\n",
    "For all cases where A is friends with B, and B is friends with C, add a new friendship for the pair A and C. Do not add duplicate friendships, friendships that already exist, or friendships with oneself. _(This one is a bit challenging; congratulations if you get it right.)_"
   ]
  },
  {
   "cell_type": "code",
   "execution_count": null,
   "metadata": {
    "collapsed": true
   },
   "outputs": [],
   "source": []
  }
 ],
 "metadata": {
  "kernelspec": {
   "display_name": "Python 3",
   "language": "python",
   "name": "python3"
  },
  "language_info": {
   "codemirror_mode": {
    "name": "ipython",
    "version": 3
   },
   "file_extension": ".py",
   "mimetype": "text/x-python",
   "name": "python",
   "nbconvert_exporter": "python",
   "pygments_lexer": "ipython3",
   "version": "3.6.2"
  }
 },
 "nbformat": 4,
 "nbformat_minor": 2
}
