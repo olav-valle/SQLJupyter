{
 "cells": [
  {
   "cell_type": "markdown",
   "metadata": {},
   "source": [
    "Assignment Instructions:\n",
    "\n",
    "1.Install [Anaconda](https://www.anaconda.com/products/individual):\n",
    "\n",
    "    Take Python 3.x version (not 2.x)\n",
    "    \n",
    "    Select “Add Anaconda to System PATH” during installation\n",
    "\n",
    "\n",
    "2.Jupyter notebook is part of the Anaconda package.\n",
    "\n",
    "    Open the console (on Windows: open Anaconda Prompt) and run command\n",
    "\n",
    "    jupyter notebook\n",
    " \n",
    "\n",
    "3.Open \"Assignment_1.ipynb\" in Jupyter Notebook.\n",
    "\n",
    "\n",
    "\n",
    "When we want to work with SQL easily in an Ipython notebook, we'll load the ipython-sql extension.\n",
    "\n",
    "To install ipython-sql with Anaconda, using the [command](https://anaconda.org/conda-forge/ipython-sql):\n",
    "\n",
    "    conda install -c conda-forge ipython-sql\n",
    "\n",
    "**Note: DO NOT PANIC** \n",
    "* Don't worry if you get (a) a big red-highlighted warning or (b) a note that the extension has already been loaded!  As long as your SQL commands work, it's loaded properly!"
   ]
  },
  {
   "cell_type": "code",
   "execution_count": 62,
   "metadata": {},
   "outputs": [
    {
     "name": "stdout",
     "output_type": "stream",
     "text": [
      "The sql extension is already loaded. To reload it, use:\n",
      "  %reload_ext sql\n"
     ]
    }
   ],
   "source": [
    "%load_ext sql"
   ]
  },
  {
   "cell_type": "markdown",
   "metadata": {},
   "source": [
    "Next, load an SQLite database stored as a file as follows:\n",
    "\n",
    "**NOTE: We load a file below (here, \"Movie-Rating.db\", which must be in the same directory as the notebook. You'll use this file throughout the first assignment. Make sure to download the from the BlackBoard exercise webpage!!**"
   ]
  },
  {
   "cell_type": "code",
   "execution_count": 63,
   "metadata": {},
   "outputs": [],
   "source": [
    "%sql sqlite:///Movie-Rating.db"
   ]
  },
  {
   "cell_type": "markdown",
   "metadata": {},
   "source": [
    "**`%sql` is used for single line SQL commands:**"
   ]
  },
  {
   "cell_type": "code",
   "execution_count": 64,
   "metadata": {},
   "outputs": [
    {
     "name": "stdout",
     "output_type": "stream",
     "text": [
      " * sqlite:///Movie-Rating.db\n",
      "Done.\n"
     ]
    },
    {
     "data": {
      "text/plain": "[(101, 'Gone with the Wind', 1939, 'Victor Fleming'),\n (102, 'Star Wars', 1977, 'George Lucas'),\n (103, 'The Sound of Music', 1965, 'Robert Wise'),\n (104, 'E.T.', 1982, 'Steven Spielberg'),\n (105, 'Titanic', 1997, 'James Cameron')]",
      "text/html": "<table>\n    <tr>\n        <th>mID</th>\n        <th>title</th>\n        <th>year</th>\n        <th>director</th>\n    </tr>\n    <tr>\n        <td>101</td>\n        <td>Gone with the Wind</td>\n        <td>1939</td>\n        <td>Victor Fleming</td>\n    </tr>\n    <tr>\n        <td>102</td>\n        <td>Star Wars</td>\n        <td>1977</td>\n        <td>George Lucas</td>\n    </tr>\n    <tr>\n        <td>103</td>\n        <td>The Sound of Music</td>\n        <td>1965</td>\n        <td>Robert Wise</td>\n    </tr>\n    <tr>\n        <td>104</td>\n        <td>E.T.</td>\n        <td>1982</td>\n        <td>Steven Spielberg</td>\n    </tr>\n    <tr>\n        <td>105</td>\n        <td>Titanic</td>\n        <td>1997</td>\n        <td>James Cameron</td>\n    </tr>\n</table>"
     },
     "execution_count": 64,
     "metadata": {},
     "output_type": "execute_result"
    }
   ],
   "source": [
    "%sql SELECT * FROM Movie LIMIT 5;"
   ]
  },
  {
   "cell_type": "markdown",
   "metadata": {},
   "source": [
    "And **`%%sql` is used for multi-line SQL commands:**"
   ]
  },
  {
   "cell_type": "code",
   "execution_count": 65,
   "metadata": {},
   "outputs": [
    {
     "name": "stdout",
     "output_type": "stream",
     "text": [
      " * sqlite:///Movie-Rating.db\n",
      "Done.\n"
     ]
    },
    {
     "data": {
      "text/plain": "[(9,)]",
      "text/html": "<table>\n    <tr>\n        <th>SUM(r.stars)</th>\n    </tr>\n    <tr>\n        <td>9</td>\n    </tr>\n</table>"
     },
     "execution_count": 65,
     "metadata": {},
     "output_type": "execute_result"
    }
   ],
   "source": [
    "%sql SELECT SUM(r.stars) FROM Rating r, Movie m WHERE m.mID = r.mID AND m.year = 1939;"
   ]
  },
  {
   "cell_type": "markdown",
   "metadata": {},
   "source": [
    "**Assignment Descriptions**\n",
    "\n",
    "You've started a new movie-rating website, and you've been collecting data on reviewers' ratings of various movies. There's\n",
    "not much data yet, but you can still try out some interesting queries. Here's the schema:\n",
    "\n",
    "Movie ( mID, title, year, director )\n",
    "Explanation: There is a movie with ID number mID, a title, a release year, and a director.\n",
    "\n",
    "Reviewer ( rID, name )\n",
    "Explanation: The reviewer with ID number rID has a certain name.\n",
    "\n",
    "Rating ( rID, mID, stars, ratingDate )\n",
    "Explanation: The reviewer rID gave the movie mID a number of stars rating (1-5) on a certain ratingDate.\n",
    "\n",
    "Your queries will run over a small data set conforming to the schema. You can see the data overview in the file 8- data overview.pdf.\n",
    "\n",
    "**Instructions**\n",
    "\n",
    "Each problem asks you to write a query in SQL. You can run your code by clicking Run button on the top of the page.\n",
    "\n",
    "**Important Notes**\n",
    "\n",
    "1- Your queries are executed using SQLite, so you must conform to the SQL constructs supported by SQLite.\n",
    "\n",
    "2- Unless a specific result ordering is asked for, you can return the result rows in any order.\n",
    "\n",
    "3- You are to translate the English into a SQL query that computes the desired result over all possible databases. I will give you the correct output two weeks later as a reference. However, just to check the answer is not enough. This means for our small sample database, even if your answer is correct, it is possible that your query does not correctly reflect the problem at hand. (For example, if we ask for a complex condition that requires accessing all of the tables, but over our small data set in the end the condition is satisfied only by Star Wars, then the query \"select title from Movie where title = 'Star Wars'\" will get correct answer even though it doesn't reflect the actual question.) Circumventing the system in this fashion is not a good idea to help you learn SQL. On the other hand, an incorrect attempt at a general solution is unlikely to produce the right answer, so you shouldn't be led astray by just checking the answer.\n",
    "\n",
    "**Assignment Questions**\n",
    "\n",
    "This assignment includes three exercises **[Movie-Rating Query Exercises], [Movie-Rating Query Exercises Extras]** and **[Movie-Rating Modification Exercises]**. All questions for Movie-Rating Query Excercises are mandatory for Exercise Assignment-1. Fill your answers in this template. The answer to the first question of the first exercise is given as an example.\n",
    "\n",
    "**What to hand in:**\n",
    "\n",
    "1. Generate a HTML report from this notebook template with answers (File > Download as > HTML).\n",
    "2. This \"Assignment_1.ipynb\" file with answers."
   ]
  },
  {
   "cell_type": "markdown",
   "metadata": {},
   "source": [
    "Movie-Rating Query Exercises, Q1:\n",
    "Find the titles of all movies directed by Steven Spielberg."
   ]
  },
  {
   "cell_type": "code",
   "execution_count": 66,
   "metadata": {
    "pycharm": {
     "name": "#%%\n"
    }
   },
   "outputs": [
    {
     "name": "stdout",
     "output_type": "stream",
     "text": [
      " * sqlite:///Movie-Rating.db\n",
      "Done.\n"
     ]
    },
    {
     "data": {
      "text/plain": "[('E.T.',), ('Raiders of the Lost Ark',)]",
      "text/html": "<table>\n    <tr>\n        <th>title</th>\n    </tr>\n    <tr>\n        <td>E.T.</td>\n    </tr>\n    <tr>\n        <td>Raiders of the Lost Ark</td>\n    </tr>\n</table>"
     },
     "execution_count": 66,
     "metadata": {},
     "output_type": "execute_result"
    }
   ],
   "source": [
    "%sql SELECT title FROM movie WHERE director = 'Steven Spielberg';"
   ]
  },
  {
   "cell_type": "markdown",
   "metadata": {},
   "source": [
    "Movie-Rating Query Exercises, Q2:\n",
    "\n",
    "Find all years that have a movie that received a rating of 4 or 5, and sort them in increasing order."
   ]
  },
  {
   "cell_type": "code",
   "execution_count": 67,
   "metadata": {},
   "outputs": [
    {
     "name": "stdout",
     "output_type": "stream",
     "text": [
      " * sqlite:///Movie-Rating.db\n",
      "Done.\n"
     ]
    },
    {
     "data": {
      "text/plain": "[('2011',), (None,)]",
      "text/html": "<table>\n    <tr>\n        <th>strftime(&#x27;%Y&#x27;,ratingDate)</th>\n    </tr>\n    <tr>\n        <td>2011</td>\n    </tr>\n    <tr>\n        <td>None</td>\n    </tr>\n</table>"
     },
     "execution_count": 67,
     "metadata": {},
     "output_type": "execute_result"
    }
   ],
   "source": [
    "%sql SELECT DISTINCT strftime('%Y',ratingDate) FROM Rating r WHERE r.stars > 3\n"
   ]
  },
  {
   "cell_type": "markdown",
   "metadata": {},
   "source": [
    "Movie-Rating Query Exercises, Q3:\n",
    "\n",
    "Find the titles of all movies that have no ratings."
   ]
  },
  {
   "cell_type": "code",
   "execution_count": 68,
   "metadata": {},
   "outputs": [
    {
     "name": "stdout",
     "output_type": "stream",
     "text": [
      " * sqlite:///Movie-Rating.db\n",
      "Done.\n"
     ]
    },
    {
     "data": {
      "text/plain": "[('Star Wars',), ('Titanic',)]",
      "text/html": "<table>\n    <tr>\n        <th>title</th>\n    </tr>\n    <tr>\n        <td>Star Wars</td>\n    </tr>\n    <tr>\n        <td>Titanic</td>\n    </tr>\n</table>"
     },
     "execution_count": 68,
     "metadata": {},
     "output_type": "execute_result"
    }
   ],
   "source": [
    "%sql SELECT m.title FROM Movie m WHERE m.mID NOT IN (SELECT mID FROM Rating)\n"
   ]
  },
  {
   "cell_type": "markdown",
   "metadata": {},
   "source": [
    "Movie-Rating Query Exercises, Q4:\n",
    "\n",
    "Some reviewers didn't provide a date with their rating. Find the names of all reviewers who have ratings with a NULL value\n",
    "for the date."
   ]
  },
  {
   "cell_type": "code",
   "execution_count": 69,
   "metadata": {},
   "outputs": [
    {
     "name": "stdout",
     "output_type": "stream",
     "text": [
      " * sqlite:///Movie-Rating.db\n",
      "Done.\n"
     ]
    },
    {
     "data": {
      "text/plain": "[('Daniel Lewis',), ('Chris Jackson',)]",
      "text/html": "<table>\n    <tr>\n        <th>name</th>\n    </tr>\n    <tr>\n        <td>Daniel Lewis</td>\n    </tr>\n    <tr>\n        <td>Chris Jackson</td>\n    </tr>\n</table>"
     },
     "execution_count": 69,
     "metadata": {},
     "output_type": "execute_result"
    }
   ],
   "source": [
    "%%sql SELECT name\n",
    "FROM Reviewer INNER JOIN Rating\n",
    "ON Reviewer.rID = Rating.rID\n",
    "WHERE Rating.ratingDate IS NULL\n",
    "\n"
   ]
  },
  {
   "cell_type": "markdown",
   "metadata": {},
   "source": [
    "Movie-Rating Query Exercises, Q5:\n",
    "\n",
    "Write a query to return the ratings data in a more readable format: reviewer name, movie title, stars, and ratingDate. Also,\n",
    "sort the data, first by reviewer name, then by movie title, and lastly by number of stars."
   ]
  },
  {
   "cell_type": "code",
   "execution_count": 70,
   "metadata": {
    "pycharm": {
     "name": "#%%\n"
    }
   },
   "outputs": [
    {
     "name": "stdout",
     "output_type": "stream",
     "text": [
      " * sqlite:///Movie-Rating.db\n",
      "Done.\n"
     ]
    },
    {
     "data": {
      "text/plain": "[('Ashley White', 'E.T.', 3, '2011-01-02'),\n ('Brittany Harris', 'Raiders of the Lost Ark', 2, '2011-01-30'),\n ('Brittany Harris', 'Raiders of the Lost Ark', 4, '2011-01-12'),\n ('Brittany Harris', 'The Sound of Music', 2, '2011-01-20'),\n ('Chris Jackson', 'E.T.', 2, '2011-01-22'),\n ('Chris Jackson', 'Raiders of the Lost Ark', 4, None),\n ('Chris Jackson', 'The Sound of Music', 3, '2011-01-27'),\n ('Daniel Lewis', 'Snow White', 4, None),\n ('Elizabeth Thomas', 'Avatar', 3, '2011-01-15'),\n ('Elizabeth Thomas', 'Snow White', 5, '2011-01-19'),\n ('James Cameron', 'Avatar', 5, '2011-01-20'),\n ('Mike Anderson', 'Gone with the Wind', 3, '2011-01-09'),\n ('Sarah Martinez', 'Gone with the Wind', 2, '2011-01-22'),\n ('Sarah Martinez', 'Gone with the Wind', 4, '2011-01-27')]",
      "text/html": "<table>\n    <tr>\n        <th>Reviewer Name</th>\n        <th>Movie Title</th>\n        <th>Stars</th>\n        <th>Rating Date</th>\n    </tr>\n    <tr>\n        <td>Ashley White</td>\n        <td>E.T.</td>\n        <td>3</td>\n        <td>2011-01-02</td>\n    </tr>\n    <tr>\n        <td>Brittany Harris</td>\n        <td>Raiders of the Lost Ark</td>\n        <td>2</td>\n        <td>2011-01-30</td>\n    </tr>\n    <tr>\n        <td>Brittany Harris</td>\n        <td>Raiders of the Lost Ark</td>\n        <td>4</td>\n        <td>2011-01-12</td>\n    </tr>\n    <tr>\n        <td>Brittany Harris</td>\n        <td>The Sound of Music</td>\n        <td>2</td>\n        <td>2011-01-20</td>\n    </tr>\n    <tr>\n        <td>Chris Jackson</td>\n        <td>E.T.</td>\n        <td>2</td>\n        <td>2011-01-22</td>\n    </tr>\n    <tr>\n        <td>Chris Jackson</td>\n        <td>Raiders of the Lost Ark</td>\n        <td>4</td>\n        <td>None</td>\n    </tr>\n    <tr>\n        <td>Chris Jackson</td>\n        <td>The Sound of Music</td>\n        <td>3</td>\n        <td>2011-01-27</td>\n    </tr>\n    <tr>\n        <td>Daniel Lewis</td>\n        <td>Snow White</td>\n        <td>4</td>\n        <td>None</td>\n    </tr>\n    <tr>\n        <td>Elizabeth Thomas</td>\n        <td>Avatar</td>\n        <td>3</td>\n        <td>2011-01-15</td>\n    </tr>\n    <tr>\n        <td>Elizabeth Thomas</td>\n        <td>Snow White</td>\n        <td>5</td>\n        <td>2011-01-19</td>\n    </tr>\n    <tr>\n        <td>James Cameron</td>\n        <td>Avatar</td>\n        <td>5</td>\n        <td>2011-01-20</td>\n    </tr>\n    <tr>\n        <td>Mike Anderson</td>\n        <td>Gone with the Wind</td>\n        <td>3</td>\n        <td>2011-01-09</td>\n    </tr>\n    <tr>\n        <td>Sarah Martinez</td>\n        <td>Gone with the Wind</td>\n        <td>2</td>\n        <td>2011-01-22</td>\n    </tr>\n    <tr>\n        <td>Sarah Martinez</td>\n        <td>Gone with the Wind</td>\n        <td>4</td>\n        <td>2011-01-27</td>\n    </tr>\n</table>"
     },
     "execution_count": 70,
     "metadata": {},
     "output_type": "execute_result"
    }
   ],
   "source": [
    "%%sql\n",
    "SELECT p.name AS \"Reviewer Name\", m.title AS \"Movie Title\", r.stars AS \"Stars\", r.ratingDate AS \"Rating Date\"\n",
    "FROM Rating AS r\n",
    "    INNER JOIN Reviewer AS p\n",
    "    ON p.rID=r.rID\n",
    "    INNER JOIN Movie m\n",
    "    ON r.mID=m.mID\n",
    "    ORDER BY p.name, m.title, r.stars"
   ]
  },
  {
   "cell_type": "markdown",
   "metadata": {},
   "source": [
    "Movie-Rating Query Exercises, Q6:\n",
    "\n",
    "For all cases where the same reviewer rated the same movie twice and gave it a higher rating the second time, return the\n",
    "reviewer's name and the title of the movie."
   ]
  },
  {
   "cell_type": "code",
   "execution_count": 71,
   "metadata": {},
   "outputs": [
    {
     "name": "stdout",
     "output_type": "stream",
     "text": [
      " * sqlite:///Movie-Rating.db\n",
      "Done.\n"
     ]
    },
    {
     "data": {
      "text/plain": "[('Sarah Martinez', 'Gone with the Wind')]",
      "text/html": "<table>\n    <tr>\n        <th>Reviewer Name</th>\n        <th>Movie Title</th>\n    </tr>\n    <tr>\n        <td>Sarah Martinez</td>\n        <td>Gone with the Wind</td>\n    </tr>\n</table>"
     },
     "execution_count": 71,
     "metadata": {},
     "output_type": "execute_result"
    }
   ],
   "source": [
    "%%sql SELECT p.name AS \"Reviewer Name\", m.title AS \"Movie Title\"\n",
    "FROM Rating r1,                     /* Self join Rating table to compare dates and stars*/\n",
    "Rating r2\n",
    "    INNER JOIN Reviewer p           /* We need reviewer name from Reviewer table*/\n",
    "    ON p.rID = r2.rID\n",
    "    INNER JOIN Movie m              /*And movie title from Movie table*/\n",
    "    ON r2.mID = m.mID\n",
    "WHERE r1.rID = r2.rID               /* Self join Rating r1, r2*/\n",
    "AND r1.mID = m.mID                  /* r1.mID = m.mID = r2.mID */\n",
    "AND r1.ratingDate < r2.ratingDate   /* Rating 2 is after rating 1*/\n",
    "AND r1.stars < r2.stars             /* Rating 2 is higher than rating 1*/"
   ]
  },
  {
   "cell_type": "markdown",
   "metadata": {},
   "source": [
    "Movie-Rating Query Exercises, Q7:\n",
    "\n",
    "For each movie that has at least one rating, find the highest number of stars that movie received. Return the movie title and\n",
    "number of stars. Sort by movie title."
   ]
  },
  {
   "cell_type": "code",
   "execution_count": 72,
   "metadata": {},
   "outputs": [
    {
     "name": "stdout",
     "output_type": "stream",
     "text": [
      " * sqlite:///Movie-Rating.db\n",
      "Done.\n"
     ]
    },
    {
     "data": {
      "text/plain": "[('Avatar', 5),\n ('E.T.', 3),\n ('Gone with the Wind', 4),\n ('Raiders of the Lost Ark', 4),\n ('Snow White', 5),\n ('The Sound of Music', 3)]",
      "text/html": "<table>\n    <tr>\n        <th>Movie Title</th>\n        <th>Highest Rating</th>\n    </tr>\n    <tr>\n        <td>Avatar</td>\n        <td>5</td>\n    </tr>\n    <tr>\n        <td>E.T.</td>\n        <td>3</td>\n    </tr>\n    <tr>\n        <td>Gone with the Wind</td>\n        <td>4</td>\n    </tr>\n    <tr>\n        <td>Raiders of the Lost Ark</td>\n        <td>4</td>\n    </tr>\n    <tr>\n        <td>Snow White</td>\n        <td>5</td>\n    </tr>\n    <tr>\n        <td>The Sound of Music</td>\n        <td>3</td>\n    </tr>\n</table>"
     },
     "execution_count": 72,
     "metadata": {},
     "output_type": "execute_result"
    }
   ],
   "source": [
    "%%sql SELECT m.title \"Movie Title\", MAX(r.stars) AS \"Highest Rating\"\n",
    "FROM Movie m\n",
    "    INNER JOIN Rating r\n",
    "    ON m.mID=r.mID\n",
    "GROUP BY m.title HAVING COUNT(r.mID) > 1\n",
    "\n"
   ]
  },
  {
   "cell_type": "markdown",
   "metadata": {},
   "source": [
    "Movie-Rating Query Exercises, Q8:\n",
    "\n",
    "For each movie, return the title and the 'rating spread', that is, the difference between highest and lowest ratings given to that movie. Sort by rating spread from highest to lowest, then by movie title."
   ]
  },
  {
   "cell_type": "code",
   "execution_count": 73,
   "metadata": {},
   "outputs": [
    {
     "name": "stdout",
     "output_type": "stream",
     "text": [
      " * sqlite:///Movie-Rating.db\n",
      "Done.\n"
     ]
    },
    {
     "data": {
      "text/plain": "[('Avatar', 2, 5, 3),\n ('Gone with the Wind', 2, 4, 2),\n ('Raiders of the Lost Ark', 2, 4, 2),\n ('E.T.', 1, 3, 2),\n ('Snow White', 1, 5, 4),\n ('The Sound of Music', 1, 3, 2)]",
      "text/html": "<table>\n    <tr>\n        <th>Movie Title</th>\n        <th>Rating Spread</th>\n        <th>Highest Rating</th>\n        <th>Lowest Rating</th>\n    </tr>\n    <tr>\n        <td>Avatar</td>\n        <td>2</td>\n        <td>5</td>\n        <td>3</td>\n    </tr>\n    <tr>\n        <td>Gone with the Wind</td>\n        <td>2</td>\n        <td>4</td>\n        <td>2</td>\n    </tr>\n    <tr>\n        <td>Raiders of the Lost Ark</td>\n        <td>2</td>\n        <td>4</td>\n        <td>2</td>\n    </tr>\n    <tr>\n        <td>E.T.</td>\n        <td>1</td>\n        <td>3</td>\n        <td>2</td>\n    </tr>\n    <tr>\n        <td>Snow White</td>\n        <td>1</td>\n        <td>5</td>\n        <td>4</td>\n    </tr>\n    <tr>\n        <td>The Sound of Music</td>\n        <td>1</td>\n        <td>3</td>\n        <td>2</td>\n    </tr>\n</table>"
     },
     "execution_count": 73,
     "metadata": {},
     "output_type": "execute_result"
    }
   ],
   "source": [
    "%%sql\n",
    "SELECT\n",
    "    m.title \"Movie Title\",\n",
    "    MAX(r.stars)-MIN(r.stars) AS \"Rating Spread\",\n",
    "    MAX(r.stars) AS \"Highest Rating\",\n",
    "    MIN(r.stars) AS \"Lowest Rating\"\n",
    "FROM Movie m\n",
    "    INNER JOIN Rating r\n",
    "    ON m.mID=r.mID\n",
    "GROUP BY m.title\n",
    "ORDER BY \"Rating Spread\" DESC, m.title ASC\n",
    "\n"
   ]
  },
  {
   "cell_type": "markdown",
   "metadata": {},
   "source": [
    "Movie-Rating Query Exercises, Q9:\n",
    "\n",
    "Find the difference between the average rating of movies released before 1980 and the average rating of movies released\n",
    "after 1980. (Make sure to calculate the average rating for each movie, then the average of those averages for movies before\n",
    "1980 and movies after. Don't just calculate the overall average rating before and after 1980.)"
   ]
  },
  {
   "cell_type": "code",
   "execution_count": 74,
   "metadata": {},
   "outputs": [
    {
     "name": "stdout",
     "output_type": "stream",
     "text": [
      " * sqlite:///Movie-Rating.db\n",
      "Done.\n"
     ]
    },
    {
     "data": {
      "text/plain": "[(0.0555555555555558, 3.3333333333333335, 3.2777777777777777)]",
      "text/html": "<table>\n    <tr>\n        <th>Average Difference</th>\n        <th>pre 1980 avg</th>\n        <th>post 1980 avg</th>\n    </tr>\n    <tr>\n        <td>0.0555555555555558</td>\n        <td>3.3333333333333335</td>\n        <td>3.2777777777777777</td>\n    </tr>\n</table>"
     },
     "execution_count": 74,
     "metadata": {},
     "output_type": "execute_result"
    }
   ],
   "source": [
    "%%sql\n",
    "SELECT\n",
    "    (AVG(pre.avg) - AVG(post.avg)) AS \"Average Difference\",\n",
    "    AVG(pre.avg) as \"pre 1980 avg\",\n",
    "    AVG(post.avg) as \"post 1980 avg\"\n",
    "FROM\n",
    "-- Pre 1980 Averages\n",
    "(SELECT m.title, AVG(r.stars) AS avg\n",
    "    FROM Rating r\n",
    "    JOIN Movie m\n",
    "    ON m.mID=r.mID\n",
    "    WHERE m.year <= 1980\n",
    "    GROUP BY m.title) pre,\n",
    "\n",
    "-- Post 1980 Averages\n",
    "(SELECT m.title, AVG(r.stars) AS avg\n",
    "    FROM Rating r\n",
    "    JOIN Movie m\n",
    "    ON r.mID=m.mID\n",
    "    WHERE m.year > 1980\n",
    "    GROUP BY m.title) post\n",
    "\n"
   ]
  },
  {
   "cell_type": "markdown",
   "metadata": {},
   "source": [
    "Movie-Rating Query Exercises Extras, Q1:\n",
    "\n",
    "Find the names of all reviewers who rated Gone with the Wind."
   ]
  },
  {
   "cell_type": "code",
   "execution_count": 75,
   "metadata": {},
   "outputs": [
    {
     "name": "stdout",
     "output_type": "stream",
     "text": [
      " * sqlite:///Movie-Rating.db\n",
      "Done.\n"
     ]
    },
    {
     "data": {
      "text/plain": "[('Sarah Martinez',), ('Mike Anderson',)]",
      "text/html": "<table>\n    <tr>\n        <th>name</th>\n    </tr>\n    <tr>\n        <td>Sarah Martinez</td>\n    </tr>\n    <tr>\n        <td>Mike Anderson</td>\n    </tr>\n</table>"
     },
     "execution_count": 75,
     "metadata": {},
     "output_type": "execute_result"
    }
   ],
   "source": [
    "%%sql\n",
    "SELECT name\n",
    "FROM Reviewer\n",
    "WHERE rID IN (SELECT r.rID\n",
    "                FROM Rating r\n",
    "                WHERE r.mID = (SELECT mID\n",
    "                                FROM Movie\n",
    "                                WHERE title='Gone with the Wind'))\n",
    "\n"
   ]
  },
  {
   "cell_type": "markdown",
   "metadata": {},
   "source": [
    "Movie-Rating Query Exercises Extras, Q2:\n",
    "\n",
    "For any rating where the reviewer is the same as the director of the movie, return the reviewer name, movie title, and\n",
    "number of stars."
   ]
  },
  {
   "cell_type": "code",
   "execution_count": 76,
   "metadata": {},
   "outputs": [
    {
     "name": "stdout",
     "output_type": "stream",
     "text": [
      " * sqlite:///Movie-Rating.db\n",
      "Done.\n"
     ]
    },
    {
     "data": {
      "text/plain": "[('James Cameron', 'Avatar', 5)]",
      "text/html": "<table>\n    <tr>\n        <th>name</th>\n        <th>title</th>\n        <th>stars</th>\n    </tr>\n    <tr>\n        <td>James Cameron</td>\n        <td>Avatar</td>\n        <td>5</td>\n    </tr>\n</table>"
     },
     "execution_count": 76,
     "metadata": {},
     "output_type": "execute_result"
    }
   ],
   "source": [
    "%%sql\n",
    "SELECT p.name, m.title, r.stars\n",
    "FROM Rating AS r\n",
    "    INNER JOIN Reviewer AS p\n",
    "    ON r.rID = p.rID\n",
    "    INNER JOIN Movie AS m\n",
    "    ON r.mID = m.mID\n",
    "WHERE p.name IN (SELECT director /*Reviewer name exists as Director name*/\n",
    "                FROM Movie\n",
    "                WHERE mID IN (SELECT mID FROM Rating)) /*All movies with ratings*/"
   ]
  },
  {
   "cell_type": "markdown",
   "metadata": {},
   "source": [
    "Movie-Rating Query Exercises Extras, Q3:\n",
    "\n",
    "Return all reviewer names and movie names together in a single list, alphabetized. (Sorting by the first name of the reviewer\n",
    "and first word in the title is fine; no need for special processing on last names or removing \"The\".)"
   ]
  },
  {
   "cell_type": "code",
   "execution_count": 77,
   "metadata": {},
   "outputs": [
    {
     "name": "stdout",
     "output_type": "stream",
     "text": [
      " * sqlite:///Movie-Rating.db\n",
      "Done.\n"
     ]
    },
    {
     "data": {
      "text/plain": "[('Ashley White',),\n ('Avatar',),\n ('Brittany Harris',),\n ('Chris Jackson',),\n ('Daniel Lewis',),\n ('E.T.',),\n ('Elizabeth Thomas',),\n ('Gone with the Wind',),\n ('James Cameron',),\n ('Mike Anderson',),\n ('Raiders of the Lost Ark',),\n ('Sarah Martinez',),\n ('Snow White',),\n ('Star Wars',),\n ('The Sound of Music',),\n ('Titanic',)]",
      "text/html": "<table>\n    <tr>\n        <th>name</th>\n    </tr>\n    <tr>\n        <td>Ashley White</td>\n    </tr>\n    <tr>\n        <td>Avatar</td>\n    </tr>\n    <tr>\n        <td>Brittany Harris</td>\n    </tr>\n    <tr>\n        <td>Chris Jackson</td>\n    </tr>\n    <tr>\n        <td>Daniel Lewis</td>\n    </tr>\n    <tr>\n        <td>E.T.</td>\n    </tr>\n    <tr>\n        <td>Elizabeth Thomas</td>\n    </tr>\n    <tr>\n        <td>Gone with the Wind</td>\n    </tr>\n    <tr>\n        <td>James Cameron</td>\n    </tr>\n    <tr>\n        <td>Mike Anderson</td>\n    </tr>\n    <tr>\n        <td>Raiders of the Lost Ark</td>\n    </tr>\n    <tr>\n        <td>Sarah Martinez</td>\n    </tr>\n    <tr>\n        <td>Snow White</td>\n    </tr>\n    <tr>\n        <td>Star Wars</td>\n    </tr>\n    <tr>\n        <td>The Sound of Music</td>\n    </tr>\n    <tr>\n        <td>Titanic</td>\n    </tr>\n</table>"
     },
     "execution_count": 77,
     "metadata": {},
     "output_type": "execute_result"
    }
   ],
   "source": [
    "%%sql\n",
    "SELECT name FROM Reviewer\n",
    "UNION\n",
    "SELECT title FROM Movie\n",
    "ORDER BY name ASC\n"
   ]
  },
  {
   "cell_type": "markdown",
   "metadata": {},
   "source": [
    "Movie-Rating Query Exercises Extras, Q4:\n",
    "\n",
    "Find the titles of all movies not reviewed by Chris Jackson."
   ]
  },
  {
   "cell_type": "code",
   "execution_count": 78,
   "metadata": {},
   "outputs": [
    {
     "name": "stdout",
     "output_type": "stream",
     "text": [
      " * sqlite:///Movie-Rating.db\n",
      "Done.\n"
     ]
    },
    {
     "data": {
      "text/plain": "[('Avatar',),\n ('Gone with the Wind',),\n ('Snow White',),\n ('Star Wars',),\n ('Titanic',)]",
      "text/html": "<table>\n    <tr>\n        <th>title</th>\n    </tr>\n    <tr>\n        <td>Avatar</td>\n    </tr>\n    <tr>\n        <td>Gone with the Wind</td>\n    </tr>\n    <tr>\n        <td>Snow White</td>\n    </tr>\n    <tr>\n        <td>Star Wars</td>\n    </tr>\n    <tr>\n        <td>Titanic</td>\n    </tr>\n</table>"
     },
     "execution_count": 78,
     "metadata": {},
     "output_type": "execute_result"
    }
   ],
   "source": [
    "%%sql\n",
    "SELECT title\n",
    "FROM Movie\n",
    "WHERE mID NOT IN (SELECT mID\n",
    "                    FROM Rating\n",
    "                    WHERE rID IN (SELECT rID\n",
    "                                    FROM Reviewer\n",
    "                                    WHERE name='Chris Jackson'))\n",
    "ORDER BY title\n"
   ]
  },
  {
   "cell_type": "markdown",
   "metadata": {},
   "source": [
    "Movie-Rating Query Exercises Extras, Q5:\n",
    "\n",
    "For all pairs of reviewers such that both reviewers gave a rating to the same movie, return the names of both reviewers.\n",
    "Eliminate duplicates, don't pair reviewers with themselves, and include each pair only once. For each pair, return the names\n",
    "in the pair in alphabetical order."
   ]
  },
  {
   "cell_type": "code",
   "execution_count": 97,
   "metadata": {},
   "outputs": [
    {
     "name": "stdout",
     "output_type": "stream",
     "text": [
      " * sqlite:///Movie-Rating.db\n",
      "Done.\n"
     ]
    },
    {
     "data": {
      "text/plain": "[('Ashley White', 'Chris Jackson'),\n ('Brittany Harris', 'Chris Jackson'),\n ('Chris Jackson', 'James Cameron'),\n ('Daniel Lewis', 'Elizabeth Thomas'),\n ('Elizabeth Thomas', 'Daniel Lewis'),\n ('James Cameron', 'Sarah Martinez'),\n ('Sarah Martinez', 'James Cameron')]",
      "text/html": "<table>\n    <tr>\n        <th>name</th>\n        <th>name_1</th>\n    </tr>\n    <tr>\n        <td>Ashley White</td>\n        <td>Chris Jackson</td>\n    </tr>\n    <tr>\n        <td>Brittany Harris</td>\n        <td>Chris Jackson</td>\n    </tr>\n    <tr>\n        <td>Chris Jackson</td>\n        <td>James Cameron</td>\n    </tr>\n    <tr>\n        <td>Daniel Lewis</td>\n        <td>Elizabeth Thomas</td>\n    </tr>\n    <tr>\n        <td>Elizabeth Thomas</td>\n        <td>Daniel Lewis</td>\n    </tr>\n    <tr>\n        <td>James Cameron</td>\n        <td>Sarah Martinez</td>\n    </tr>\n    <tr>\n        <td>Sarah Martinez</td>\n        <td>James Cameron</td>\n    </tr>\n</table>"
     },
     "execution_count": 97,
     "metadata": {},
     "output_type": "execute_result"
    }
   ],
   "source": [
    "%%sql\n",
    "SELECT rp1.name, rp2.name\n",
    "FROM (Reviewer p1\n",
    "    INNER JOIN Rating r1\n",
    "    ON p1.rID = r1.rID)\n",
    "AS rp1\n",
    "INNER JOIN\n",
    "(Reviewer p2\n",
    "    INNER JOIN Rating r2\n",
    "    ON p2.rID = r2.rID)\n",
    "AS rp2\n",
    "ON rp1.mID = rp2.mID\n",
    "WHERE rp1.mID = rp2.mID\n",
    "AND rp1.rID <> rp2.rID\n",
    "GROUP BY rp1.name"
   ]
  },
  {
   "cell_type": "markdown",
   "metadata": {},
   "source": [
    "Movie-Rating Query Exercises Extras, Q6:\n",
    "\n",
    "For each rating that is the lowest (fewest stars) currently in the database, return the reviewer name, movie title, and number\n",
    "of stars."
   ]
  },
  {
   "cell_type": "code",
   "execution_count": 80,
   "metadata": {},
   "outputs": [
    {
     "name": "stdout",
     "output_type": "stream",
     "text": [
      " * sqlite:///Movie-Rating.db\n",
      "Done.\n"
     ]
    },
    {
     "data": {
      "text/plain": "[('Sarah Martinez', 'Gone with the Wind', 2),\n ('Brittany Harris', 'The Sound of Music', 2),\n ('Brittany Harris', 'Raiders of the Lost Ark', 2),\n ('Chris Jackson', 'E.T.', 2)]",
      "text/html": "<table>\n    <tr>\n        <th>Reviewer Name</th>\n        <th>Movie Title</th>\n        <th>Rating</th>\n    </tr>\n    <tr>\n        <td>Sarah Martinez</td>\n        <td>Gone with the Wind</td>\n        <td>2</td>\n    </tr>\n    <tr>\n        <td>Brittany Harris</td>\n        <td>The Sound of Music</td>\n        <td>2</td>\n    </tr>\n    <tr>\n        <td>Brittany Harris</td>\n        <td>Raiders of the Lost Ark</td>\n        <td>2</td>\n    </tr>\n    <tr>\n        <td>Chris Jackson</td>\n        <td>E.T.</td>\n        <td>2</td>\n    </tr>\n</table>"
     },
     "execution_count": 80,
     "metadata": {},
     "output_type": "execute_result"
    }
   ],
   "source": [
    "%%sql\n",
    "SELECT  p.name AS \"Reviewer Name\",\n",
    "        m.title AS \"Movie Title\",\n",
    "        r.stars AS \"Rating\"\n",
    "FROM Movie m                /*Need movie title*/\n",
    "INNER JOIN Rating r         /*Need star rating*/\n",
    "    ON m.mID=r.mID\n",
    "INNER JOIN Reviewer p       /*Need reviewer name*/\n",
    "    ON r.rID = p.rID\n",
    "WHERE r.stars = (SELECT MIN(stars) FROM Rating)"
   ]
  },
  {
   "cell_type": "markdown",
   "metadata": {},
   "source": [
    "Movie-Rating Query Exercises Extras, Q7:\n",
    "\n",
    "List movie titles and average ratings, from highest-rated to lowest-rated. If two or more movies have the same average rating,\n",
    "list them in alphabetical order."
   ]
  },
  {
   "cell_type": "code",
   "execution_count": 81,
   "metadata": {},
   "outputs": [
    {
     "name": "stdout",
     "output_type": "stream",
     "text": [
      " * sqlite:///Movie-Rating.db\n",
      "Done.\n"
     ]
    },
    {
     "data": {
      "text/plain": "[('Snow White', 4.5),\n ('Avatar', 4.0),\n ('Raiders of the Lost Ark', 3.3333333333333335),\n ('Gone with the Wind', 3.0),\n ('E.T.', 2.5),\n ('The Sound of Music', 2.5)]",
      "text/html": "<table>\n    <tr>\n        <th>Title</th>\n        <th>Average Stars</th>\n    </tr>\n    <tr>\n        <td>Snow White</td>\n        <td>4.5</td>\n    </tr>\n    <tr>\n        <td>Avatar</td>\n        <td>4.0</td>\n    </tr>\n    <tr>\n        <td>Raiders of the Lost Ark</td>\n        <td>3.3333333333333335</td>\n    </tr>\n    <tr>\n        <td>Gone with the Wind</td>\n        <td>3.0</td>\n    </tr>\n    <tr>\n        <td>E.T.</td>\n        <td>2.5</td>\n    </tr>\n    <tr>\n        <td>The Sound of Music</td>\n        <td>2.5</td>\n    </tr>\n</table>"
     },
     "execution_count": 81,
     "metadata": {},
     "output_type": "execute_result"
    }
   ],
   "source": [
    "%%sql\n",
    "SELECT m.title AS \"Title\", AVG(r.stars) AS \"Average Stars\"\n",
    "FROM Movie m, Rating r\n",
    "WHERE m.mID=r.mID\n",
    "GROUP BY m.mID\n",
    "ORDER BY \"Average Stars\" DESC, m.title ASC\n",
    "\n"
   ]
  },
  {
   "cell_type": "markdown",
   "metadata": {},
   "source": [
    "Movie-Rating Query Exercises Extras, Q8:\n",
    "\n",
    "Find the names of all reviewers who have contributed three or more ratings. (As an extra challenge, try writing the query\n",
    "without HAVING or without COUNT.)"
   ]
  },
  {
   "cell_type": "code",
   "execution_count": 82,
   "metadata": {},
   "outputs": [
    {
     "name": "stdout",
     "output_type": "stream",
     "text": [
      " * sqlite:///Movie-Rating.db\n",
      "Done.\n"
     ]
    },
    {
     "data": {
      "text/plain": "[('Brittany Harris',), ('Chris Jackson',)]",
      "text/html": "<table>\n    <tr>\n        <th>name</th>\n    </tr>\n    <tr>\n        <td>Brittany Harris</td>\n    </tr>\n    <tr>\n        <td>Chris Jackson</td>\n    </tr>\n</table>"
     },
     "execution_count": 82,
     "metadata": {},
     "output_type": "execute_result"
    }
   ],
   "source": [
    "%%sql\n",
    "SELECT p.name\n",
    "FROM Reviewer p\n",
    "WHERE p.rID IN (SELECT r.rID\n",
    "                FROM Rating r\n",
    "                GROUP BY r.rID\n",
    "                HAVING COUNT() >= 3 )\n",
    "\n"
   ]
  },
  {
   "cell_type": "markdown",
   "metadata": {},
   "source": [
    "Movie-Rating Query Exercises Extras, Q9:\n",
    "\n",
    "Some directors directed more than one movie. For all such directors, return the titles of all movies directed by them, along\n",
    "with the director name. Sort by director name, then movie title. (As an extra challenge, try writing the query both with and\n",
    "without COUNT.)"
   ]
  },
  {
   "cell_type": "code",
   "execution_count": 83,
   "metadata": {},
   "outputs": [
    {
     "name": "stdout",
     "output_type": "stream",
     "text": [
      " * sqlite:///Movie-Rating.db\n",
      "Done.\n"
     ]
    },
    {
     "data": {
      "text/plain": "[('Avatar', 'James Cameron'),\n ('Titanic', 'James Cameron'),\n ('E.T.', 'Steven Spielberg'),\n ('Raiders of the Lost Ark', 'Steven Spielberg')]",
      "text/html": "<table>\n    <tr>\n        <th>title</th>\n        <th>director</th>\n    </tr>\n    <tr>\n        <td>Avatar</td>\n        <td>James Cameron</td>\n    </tr>\n    <tr>\n        <td>Titanic</td>\n        <td>James Cameron</td>\n    </tr>\n    <tr>\n        <td>E.T.</td>\n        <td>Steven Spielberg</td>\n    </tr>\n    <tr>\n        <td>Raiders of the Lost Ark</td>\n        <td>Steven Spielberg</td>\n    </tr>\n</table>"
     },
     "execution_count": 83,
     "metadata": {},
     "output_type": "execute_result"
    }
   ],
   "source": [
    "%%sql\n",
    "SELECT m.title, m.director\n",
    "FROM Movie m\n",
    "WHERE m.director IN (SELECT director FROM Movie GROUP BY director HAVING COUNT() > 1)\n",
    "ORDER BY m.director, m.title\n"
   ]
  },
  {
   "cell_type": "markdown",
   "metadata": {},
   "source": [
    "Movie-Rating Query Exercises Extras, Q10:\n",
    "\n",
    "Find the movie(s) with the highest average rating. Return the movie title(s) and average rating. (Hint: This query is more\n",
    "difficult to write in SQLite than other systems; you might think of it as finding the highest average rating and then choosing\n",
    "the movie(s) with that average rating.)"
   ]
  },
  {
   "cell_type": "code",
   "execution_count": 84,
   "metadata": {},
   "outputs": [
    {
     "name": "stdout",
     "output_type": "stream",
     "text": [
      " * sqlite:///Movie-Rating.db\n",
      "Done.\n"
     ]
    },
    {
     "data": {
      "text/plain": "[('Snow White', 4.5)]",
      "text/html": "<table>\n    <tr>\n        <th>title</th>\n        <th>AVG(r.stars)</th>\n    </tr>\n    <tr>\n        <td>Snow White</td>\n        <td>4.5</td>\n    </tr>\n</table>"
     },
     "execution_count": 84,
     "metadata": {},
     "output_type": "execute_result"
    }
   ],
   "source": [
    "%%sql\n",
    "SELECT m.title, AVG(r.stars)\n",
    "FROM Movie m, Rating r\n",
    "WHERE m.mID = r.mID\n",
    "GROUP BY m.mID\n",
    "HAVING AVG(r.stars) = (SELECT MAX(av)               /*Max value of average ratings for all movies*/\n",
    "                        FROM (SELECT                /*Query average stars for each movie*/\n",
    "                                AVG(stars) AS av\n",
    "                                FROM Rating\n",
    "                                GROUP BY mID))\n"
   ]
  },
  {
   "cell_type": "markdown",
   "metadata": {},
   "source": [
    "Movie-Rating Query Exercises Extras, Q11:\n",
    "\n",
    "Find the movie(s) with the lowest average rating. Return the movie title(s) and average rating. (Hint: This query may be more\n",
    "difficult to write in SQLite than other systems; you might think of it as finding the lowest average rating and then choosing\n",
    "the movie(s) with that average rating.)"
   ]
  },
  {
   "cell_type": "code",
   "execution_count": 85,
   "metadata": {},
   "outputs": [
    {
     "name": "stdout",
     "output_type": "stream",
     "text": [
      " * sqlite:///Movie-Rating.db\n",
      "Done.\n"
     ]
    },
    {
     "data": {
      "text/plain": "[('The Sound of Music', 2.5), ('E.T.', 2.5)]",
      "text/html": "<table>\n    <tr>\n        <th>title</th>\n        <th>AVG(r.stars)</th>\n    </tr>\n    <tr>\n        <td>The Sound of Music</td>\n        <td>2.5</td>\n    </tr>\n    <tr>\n        <td>E.T.</td>\n        <td>2.5</td>\n    </tr>\n</table>"
     },
     "execution_count": 85,
     "metadata": {},
     "output_type": "execute_result"
    }
   ],
   "source": [
    "%%sql\n",
    "/* Exactly the same query as Extra Q10, except using MIN() instead of MAX()*/\n",
    "SELECT m.title, AVG(r.stars)\n",
    "FROM Movie m, Rating r\n",
    "WHERE m.mID = r.mID\n",
    "GROUP BY m.mID\n",
    "HAVING AVG(r.stars) = (SELECT MIN(av)\n",
    "                        FROM (SELECT\n",
    "                                AVG(stars) AS av\n",
    "                                FROM Rating\n",
    "                                GROUP BY mID))\n"
   ]
  },
  {
   "cell_type": "markdown",
   "metadata": {},
   "source": [
    "Movie-Rating Query Exercises Extras, Q12:\n",
    "\n",
    "For each director, return the director's name together with the title(s) of the movie(s) they directed that received the highest\n",
    "rating among all of their movies, and the value of that rating. Ignore movies whose director is NULL."
   ]
  },
  {
   "cell_type": "code",
   "execution_count": 86,
   "metadata": {},
   "outputs": [
    {
     "name": "stdout",
     "output_type": "stream",
     "text": [
      " * sqlite:///Movie-Rating.db\n",
      "Done.\n"
     ]
    },
    {
     "data": {
      "text/plain": "[('James Cameron', 'Avatar', 5),\n ('Robert Wise', 'The Sound of Music', 3),\n ('Steven Spielberg', 'Raiders of the Lost Ark', 4),\n ('Victor Fleming', 'Gone with the Wind', 4)]",
      "text/html": "<table>\n    <tr>\n        <th>director</th>\n        <th>title</th>\n        <th>stars</th>\n    </tr>\n    <tr>\n        <td>James Cameron</td>\n        <td>Avatar</td>\n        <td>5</td>\n    </tr>\n    <tr>\n        <td>Robert Wise</td>\n        <td>The Sound of Music</td>\n        <td>3</td>\n    </tr>\n    <tr>\n        <td>Steven Spielberg</td>\n        <td>Raiders of the Lost Ark</td>\n        <td>4</td>\n    </tr>\n    <tr>\n        <td>Victor Fleming</td>\n        <td>Gone with the Wind</td>\n        <td>4</td>\n    </tr>\n</table>"
     },
     "execution_count": 86,
     "metadata": {},
     "output_type": "execute_result"
    }
   ],
   "source": [
    "%%sql\n",
    "SELECT m.director, m.title, r.stars\n",
    "FROM Movie m, Rating r\n",
    "WHERE m.mID = r.mID\n",
    "AND m.director IS NOT NULL\n",
    "GROUP BY m.director\n",
    "HAVING MAX(r.stars)\n",
    "\n",
    "\n"
   ]
  },
  {
   "cell_type": "markdown",
   "metadata": {
    "collapsed": true
   },
   "source": [
    "**To check your data modification statement, we ran the following query after your modification: select * from Movie order by\n",
    "mID**\n",
    "\n",
    "Movie-Rating Modification Exercises, Q1:\n",
    "\n",
    "Add the reviewer Roger Ebert to your database, with an rID of 209."
   ]
  },
  {
   "cell_type": "code",
   "execution_count": 87,
   "metadata": {},
   "outputs": [
    {
     "name": "stdout",
     "output_type": "stream",
     "text": [
      " * sqlite:///Movie-Rating.db\n",
      "1 rows affected.\n"
     ]
    },
    {
     "data": {
      "text/plain": "[]"
     },
     "execution_count": 87,
     "metadata": {},
     "output_type": "execute_result"
    }
   ],
   "source": [
    "%%sql\n",
    "INSERT INTO Reviewer (rID, name)\n",
    "VALUES (209, \"Roger Ebert\")"
   ]
  },
  {
   "cell_type": "markdown",
   "metadata": {
    "collapsed": true
   },
   "source": [
    "Movie-Rating Modification Exercises, Q2:\n",
    "\n",
    "Insert 5-star ratings by James Cameron for all movies in the database. Leave the review date as NULL."
   ]
  },
  {
   "cell_type": "code",
   "execution_count": 88,
   "metadata": {},
   "outputs": [
    {
     "name": "stdout",
     "output_type": "stream",
     "text": [
      " * sqlite:///Movie-Rating.db\n",
      "8 rows affected.\n"
     ]
    },
    {
     "data": {
      "text/plain": "[]"
     },
     "execution_count": 88,
     "metadata": {},
     "output_type": "execute_result"
    }
   ],
   "source": [
    "%%sql\n",
    "INSERT INTO Rating (rID, mID, stars, ratingDate)\n",
    "SELECT p.rID, m.mID, 5, NULL\n",
    "FROM Reviewer p, Movie m\n",
    "WHERE p.name = 'James Cameron'\n",
    "AND m.mID IN (SELECT mID FROM Movie)\n",
    "\n"
   ]
  },
  {
   "cell_type": "markdown",
   "metadata": {
    "collapsed": true
   },
   "source": [
    "Movie-Rating Modification Exercises, Q3:\n",
    "\n",
    "For all movies that have an average rating of 4 stars or higher, add 25 to the release year. (Update the existing tuples; don't\n",
    "insert new tuples.)"
   ]
  },
  {
   "cell_type": "code",
   "execution_count": 89,
   "metadata": {},
   "outputs": [
    {
     "name": "stdout",
     "output_type": "stream",
     "text": [
      " * sqlite:///Movie-Rating.db\n",
      "4 rows affected.\n"
     ]
    },
    {
     "data": {
      "text/plain": "[]"
     },
     "execution_count": 89,
     "metadata": {},
     "output_type": "execute_result"
    }
   ],
   "source": [
    "%%sql\n",
    "UPDATE Movie\n",
    "SET year = year+25\n",
    "WHERE mID IN (SELECT mID\n",
    "                FROM Rating r\n",
    "                GROUP BY mID\n",
    "                HAVING AVG(stars) >= 4)\n",
    "\n"
   ]
  },
  {
   "cell_type": "markdown",
   "metadata": {
    "collapsed": true
   },
   "source": [
    "Movie-Rating Modification Exercises, Q4:\n",
    "\n",
    "Remove all ratings where the movie's year is before 1970 or after 2000, and the rating is fewer than 4 stars."
   ]
  },
  {
   "cell_type": "code",
   "execution_count": 90,
   "metadata": {},
   "outputs": [
    {
     "name": "stdout",
     "output_type": "stream",
     "text": [
      " * sqlite:///Movie-Rating.db\n",
      "5 rows affected.\n"
     ]
    },
    {
     "data": {
      "text/plain": "[]"
     },
     "execution_count": 90,
     "metadata": {},
     "output_type": "execute_result"
    }
   ],
   "source": [
    "%%sql\n",
    "DELETE FROM Rating\n",
    "WHERE mID IN (SELECT m.mID\n",
    "                FROM Movie m\n",
    "                WHERE m.year NOT BETWEEN 1970 AND 2000)\n",
    "AND stars < 4\n"
   ]
  }
 ],
 "metadata": {
  "kernelspec": {
   "display_name": "Python 3",
   "language": "python",
   "name": "python3"
  },
  "language_info": {
   "codemirror_mode": {
    "name": "ipython",
    "version": 3
   },
   "file_extension": ".py",
   "mimetype": "text/x-python",
   "name": "python",
   "nbconvert_exporter": "python",
   "pygments_lexer": "ipython3",
   "version": "3.8.3"
  }
 },
 "nbformat": 4,
 "nbformat_minor": 2
}